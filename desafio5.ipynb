{
  "nbformat": 4,
  "nbformat_minor": 0,
  "metadata": {
    "colab": {
      "private_outputs": true,
      "provenance": []
    },
    "kernelspec": {
      "name": "python3",
      "display_name": "Python 3"
    },
    "language_info": {
      "name": "python"
    }
  },
  "cells": [
    {
      "cell_type": "code",
      "execution_count": null,
      "metadata": {
        "id": "GGuaBaEujj9y"
      },
      "outputs": [],
      "source": [
        "import pandas as pd\n",
        "\n",
        "# Ler o dataset\n",
        "df = pd.read_csv('/content/Dados.csv.csv')\n",
        "\n",
        "# Verificar os primeiros registros\n",
        "print(df.head())\n",
        "\n",
        "# Resumo estatístico\n",
        "print(df.describe())\n",
        "\n",
        "# Verificar tipos de dados\n",
        "print(df.dtypes)\n"
      ]
    },
    {
      "cell_type": "code",
      "source": [
        "# Verificar valores nulos no CustomerID\n",
        "print(df['CustomerID'].isna().sum())\n",
        "\n",
        "# Remover valores nulos\n",
        "df = df.dropna(subset=['CustomerID'])\n"
      ],
      "metadata": {
        "id": "yevJr9FjkF4v"
      },
      "execution_count": null,
      "outputs": []
    },
    {
      "cell_type": "code",
      "source": [
        "# Verificar se existem preços menores ou iguais a 0\n",
        "print(df[df['UnitPrice'] <= 0].shape)\n",
        "\n",
        "# Remover preços menores ou iguais a 0\n",
        "df = df[df['UnitPrice'] > 0]\n",
        "\n",
        "# Verificar se existem quantidades menores ou iguais a 0\n",
        "print(df[df['Quantity'] <= 0].shape)\n",
        "\n",
        "# Remover quantidades menores ou iguais a 0\n",
        "df = df[df['Quantity'] > 0]\n"
      ],
      "metadata": {
        "id": "h0KeP5KrkKMn"
      },
      "execution_count": null,
      "outputs": []
    },
    {
      "cell_type": "code",
      "source": [
        "# Verificar duplicados\n",
        "print(df.duplicated().sum())\n",
        "\n",
        "# Remover duplicados\n",
        "df = df.drop_duplicates()\n"
      ],
      "metadata": {
        "id": "_v6ggFdrkPtn"
      },
      "execution_count": null,
      "outputs": []
    },
    {
      "cell_type": "code",
      "source": [
        "# Ajustar tipo de CustomerID para inteiro\n",
        "df['CustomerID'] = df['CustomerID'].astype(int)\n",
        "\n",
        "# Converter InvoiceDate para formato datetime\n",
        "df['InvoiceDate'] = pd.to_datetime(df['InvoiceDate'])\n"
      ],
      "metadata": {
        "id": "UscUZxjwkUuN"
      },
      "execution_count": null,
      "outputs": []
    },
    {
      "cell_type": "code",
      "source": [
        "# Remover outliers de quantidade e preço unitário\n",
        "df = df[(df['Quantity'] <= 10000) & (df['UnitPrice'] <= 5000)]\n"
      ],
      "metadata": {
        "id": "2MObL72KkpIF"
      },
      "execution_count": null,
      "outputs": []
    },
    {
      "cell_type": "code",
      "source": [
        "# Criar coluna de preço total\n",
        "df['TotalPrice'] = df['Quantity'] * df['UnitPrice']\n"
      ],
      "metadata": {
        "id": "wOuzWhOpktXm"
      },
      "execution_count": null,
      "outputs": []
    },
    {
      "cell_type": "code",
      "source": [
        "# Última data de compra\n",
        "last_date = df['InvoiceDate'].max()\n",
        "print(last_date)\n"
      ],
      "metadata": {
        "id": "GaIVOn1Uk0Cl"
      },
      "execution_count": null,
      "outputs": []
    },
    {
      "cell_type": "code",
      "source": [
        "!pip install plotly\n"
      ],
      "metadata": {
        "id": "lTPl-nOGqvLZ"
      },
      "execution_count": null,
      "outputs": []
    },
    {
      "cell_type": "markdown",
      "source": [
        "**Top 10 países com maior valor em vendas**"
      ],
      "metadata": {
        "id": "dNG9ECJUrIyp"
      }
    },
    {
      "cell_type": "code",
      "source": [
        "import plotly.express as px\n",
        "\n",
        "# Agrupar por país e calcular o valor total de vendas\n",
        "vendas_pais = df.groupby('Country')['TotalPrice'].sum().sort_values(ascending=False).head(10).reset_index()\n",
        "\n",
        "# Criar o gráfico interativo\n",
        "fig = px.bar(vendas_pais, x='Country', y='TotalPrice',\n",
        "             title='Top 10 Países com Maior Valor em Vendas',\n",
        "             labels={'TotalPrice': 'Total de Vendas', 'Country': 'País'},\n",
        "             template='plotly')\n",
        "\n",
        "fig.show()\n"
      ],
      "metadata": {
        "id": "XoUb2cQUqzDx"
      },
      "execution_count": null,
      "outputs": []
    },
    {
      "cell_type": "code",
      "source": [],
      "metadata": {
        "id": "_OwJFuiRq7tx"
      },
      "execution_count": null,
      "outputs": []
    },
    {
      "cell_type": "markdown",
      "source": [
        "**Top 10 produtos mais vendidos**"
      ],
      "metadata": {
        "id": "Tq7EEGVxrQsM"
      }
    },
    {
      "cell_type": "code",
      "source": [
        "# Agrupar por produto (Description) e calcular a quantidade total vendida\n",
        "produtos_vendidos = df.groupby('Description')['Quantity'].sum().sort_values(ascending=False).head(10).reset_index()\n",
        "\n",
        "# Criar o gráfico interativo\n",
        "fig = px.bar(produtos_vendidos, x='Description', y='Quantity',\n",
        "             title='Top 10 Produtos Mais Vendidos',\n",
        "             labels={'Quantity': 'Quantidade Vendida', 'Description': 'Produto'},\n",
        "             template='plotly')\n",
        "\n",
        "fig.update_layout(xaxis_tickangle=-45)\n",
        "fig.show()\n"
      ],
      "metadata": {
        "id": "qCLcZYlYrW3q"
      },
      "execution_count": null,
      "outputs": []
    },
    {
      "cell_type": "markdown",
      "source": [
        "**Valor de venda total por mês**"
      ],
      "metadata": {
        "id": "d9FE0lqTriIb"
      }
    },
    {
      "cell_type": "code",
      "source": [
        "# Criar uma coluna com o ano e mês\n",
        "df['YearMonth'] = df['InvoiceDate'].dt.to_period('M').astype(str)\n",
        "\n",
        "# Agrupar por mês e somar o total de vendas\n",
        "vendas_mes = df.groupby('YearMonth')['TotalPrice'].sum().reset_index()\n",
        "\n",
        "# Criar o gráfico interativo\n",
        "fig = px.line(vendas_mes, x='YearMonth', y='TotalPrice',\n",
        "              title='Valor de Venda Total por Mês',\n",
        "              labels={'TotalPrice': 'Total de Vendas', 'YearMonth': 'Mês'},\n",
        "              template='plotly')\n",
        "\n",
        "fig.update_layout(xaxis_tickangle=-45)\n",
        "fig.show()\n"
      ],
      "metadata": {
        "id": "8nH8mXZhrr_h"
      },
      "execution_count": null,
      "outputs": []
    },
    {
      "cell_type": "markdown",
      "source": [
        "**Valor de venda total por mês e por país (Top 10 países)**"
      ],
      "metadata": {
        "id": "GDE9sbUArzks"
      }
    },
    {
      "cell_type": "code",
      "source": [
        "# Filtrar para os top 10 países com maior valor de vendas\n",
        "top_paises = df.groupby('Country')['TotalPrice'].sum().sort_values(ascending=False).head(10).index\n",
        "\n",
        "# Filtrar o dataset para esses países\n",
        "df_top_paises = df[df['Country'].isin(top_paises)]\n",
        "\n",
        "# Agrupar por mês e país, e somar o total de vendas\n",
        "vendas_mes_pais = df_top_paises.groupby(['YearMonth', 'Country'])['TotalPrice'].sum().reset_index()\n",
        "\n",
        "# Criar o gráfico interativo\n",
        "fig = px.line(vendas_mes_pais, x='YearMonth', y='TotalPrice', color='Country',\n",
        "              title='Valor de Venda Total por Mês e por País (Top 10 Países)',\n",
        "              labels={'TotalPrice': 'Total de Vendas', 'YearMonth': 'Mês'},\n",
        "              template='plotly')\n",
        "\n",
        "fig.update_layout(xaxis_tickangle=-45)\n",
        "fig.show()\n"
      ],
      "metadata": {
        "id": "DyRQwocqr55y"
      },
      "execution_count": null,
      "outputs": []
    },
    {
      "cell_type": "code",
      "source": [
        "# Agrupar por CustomerID e InvoiceNo para obter a data da compra e o preço total por pedido\n",
        "df_pedidos = df.groupby(['CustomerID', 'InvoiceNo']).agg({\n",
        "    'InvoiceDate': 'max',   # Data da última compra por fatura\n",
        "    'TotalPrice': 'sum'     # Soma do preço total por fatura\n",
        "}).reset_index()\n",
        "\n",
        "df_pedidos.head()\n"
      ],
      "metadata": {
        "id": "n29UI9zNsRsJ"
      },
      "execution_count": null,
      "outputs": []
    },
    {
      "cell_type": "code",
      "source": [
        "# Calcular a última data disponível no dataset\n",
        "ultima_data = df['InvoiceDate'].max()\n",
        "\n",
        "print(f\"A última data no conjunto de dados é: {ultima_data}\")\n"
      ],
      "metadata": {
        "id": "08icxHFpxMpG"
      },
      "execution_count": null,
      "outputs": []
    },
    {
      "cell_type": "code",
      "source": [
        "# Agrupar por cliente para calcular o RFM\n",
        "df_rfm = df_pedidos.groupby('CustomerID').agg({\n",
        "    'InvoiceDate': lambda x: (ultima_data - x.max()).days,  # Recência\n",
        "    'InvoiceNo': 'count',                                  # Frequência\n",
        "    'TotalPrice': 'mean'                                   # Ticket Médio (Monetary)\n",
        "}).reset_index()\n",
        "\n",
        "# Renomear as colunas para R, F e M\n",
        "df_rfm.columns = ['CustomerID', 'R', 'F', 'M']\n",
        "\n",
        "df_rfm.head()\n"
      ],
      "metadata": {
        "id": "6Yn7h2KFxR1K"
      },
      "execution_count": null,
      "outputs": []
    }
  ]
}